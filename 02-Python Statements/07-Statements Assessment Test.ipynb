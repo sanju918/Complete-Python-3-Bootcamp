{
 "cells": [
  {
   "cell_type": "markdown",
   "metadata": {
    "collapsed": true
   },
   "source": [
    "# Statements Assessment Test\n",
    "Let's test your knowledge!"
   ]
  },
  {
   "cell_type": "markdown",
   "metadata": {},
   "source": [
    "_____\n",
    "**Use <code>for</code>, <code>.split()</code>, and <code>if</code> to create a Statement that will print out words that start with 's':**"
   ]
  },
  {
   "cell_type": "code",
   "execution_count": 2,
   "metadata": {},
   "outputs": [],
   "source": [
    "st = 'Print only the words that start with s in this sentence'"
   ]
  },
  {
   "cell_type": "code",
   "execution_count": 11,
   "metadata": {},
   "outputs": [
    {
     "name": "stdout",
     "output_type": "stream",
     "text": [
      "start\n",
      "s\n",
      "sentence\n"
     ]
    }
   ],
   "source": [
    "#Code here\n",
    "\n",
    "for i in st.split():\n",
    "    if i[0] == 's' or i[0] =='S':\n",
    "        print (i)\n",
    "        \n",
    "#or \n",
    "\n",
    "st = 'Print only the words that start with s in this sentence'\n",
    "l2 = [word for word in st.split() if word[0] == 's']\n",
    "l2"
   ]
  },
  {
   "cell_type": "markdown",
   "metadata": {},
   "source": [
    "______\n",
    "**Use range() to print all the even numbers from 0 to 10.**"
   ]
  },
  {
   "cell_type": "code",
   "execution_count": 13,
   "metadata": {},
   "outputs": [
    {
     "data": {
      "text/plain": [
       "[0, 2, 4, 6, 8, 10]"
      ]
     },
     "execution_count": 13,
     "metadata": {},
     "output_type": "execute_result"
    }
   ],
   "source": [
    "#Code Here\n",
    "l3 = [ass for ass in range(11) if ass%2==0]\n",
    "l3\n",
    "\n",
    "# or\n",
    "\n",
    "list(range(0,11,2))\n"
   ]
  },
  {
   "cell_type": "markdown",
   "metadata": {},
   "source": [
    "___\n",
    "**Use a List Comprehension to create a list of all numbers between 1 and 50 that are divisible by 3.**"
   ]
  },
  {
   "cell_type": "code",
   "execution_count": 9,
   "metadata": {},
   "outputs": [
    {
     "data": {
      "text/plain": [
       "[3, 6, 9, 12, 15, 18, 21, 24, 27, 30, 33, 36, 39, 42, 45, 48]"
      ]
     },
     "execution_count": 9,
     "metadata": {},
     "output_type": "execute_result"
    }
   ],
   "source": [
    "#Code in this cell\n",
    "[x for x in range(1,51) if x%3==0]"
   ]
  },
  {
   "cell_type": "markdown",
   "metadata": {},
   "source": [
    "_____\n",
    "**Go through the string below and if the length of a word is even print \"even!\"**"
   ]
  },
  {
   "cell_type": "code",
   "execution_count": null,
   "metadata": {},
   "outputs": [],
   "source": [
    "st = 'Print every word in this sentence that has an even number of letters'"
   ]
  },
  {
   "cell_type": "code",
   "execution_count": 22,
   "metadata": {},
   "outputs": [
    {
     "data": {
      "text/plain": [
       "['word', 'in', 'this', 'sentence', 'that', 'an', 'even', 'number', 'of']"
      ]
     },
     "execution_count": 22,
     "metadata": {},
     "output_type": "execute_result"
    }
   ],
   "source": [
    "#Code in this cell\n",
    "st = 'Print every word in this sentence that has an even number of letters'\n",
    "x = st.split()\n",
    "[x for x in x if len(x)%2==0]"
   ]
  },
  {
   "cell_type": "markdown",
   "metadata": {},
   "source": [
    "____\n",
    "**Write a program that prints the integers from 1 to 100. But for multiples of three print \"Fizz\" instead of the number, and for the multiples of five print \"Buzz\". For numbers which are multiples of both three and five print \"FizzBuzz\".**"
   ]
  },
  {
   "cell_type": "code",
   "execution_count": 12,
   "metadata": {},
   "outputs": [
    {
     "name": "stdout",
     "output_type": "stream",
     "text": [
      "1\n",
      "2\n",
      "3Fizz\n",
      "4\n",
      "5Buzz\n",
      "6Fizz\n",
      "7\n",
      "8\n",
      "9Fizz\n",
      "10Buzz\n",
      "11\n",
      "12Fizz\n",
      "13\n",
      "14\n",
      "15FizzBuzz\n",
      "16\n",
      "17\n",
      "18Fizz\n",
      "19\n",
      "20Buzz\n",
      "21Fizz\n",
      "22\n",
      "23\n",
      "24Fizz\n",
      "25Buzz\n",
      "26\n",
      "27Fizz\n",
      "28\n",
      "29\n",
      "30FizzBuzz\n",
      "31\n",
      "32\n",
      "33Fizz\n",
      "34\n",
      "35Buzz\n",
      "36Fizz\n",
      "37\n",
      "38\n",
      "39Fizz\n",
      "40Buzz\n",
      "41\n",
      "42Fizz\n",
      "43\n",
      "44\n",
      "45FizzBuzz\n",
      "46\n",
      "47\n",
      "48Fizz\n",
      "49\n",
      "50Buzz\n",
      "51Fizz\n",
      "52\n",
      "53\n",
      "54Fizz\n",
      "55Buzz\n",
      "56\n",
      "57Fizz\n",
      "58\n",
      "59\n",
      "60FizzBuzz\n",
      "61\n",
      "62\n",
      "63Fizz\n",
      "64\n",
      "65Buzz\n",
      "66Fizz\n",
      "67\n",
      "68\n",
      "69Fizz\n",
      "70Buzz\n",
      "71\n",
      "72Fizz\n",
      "73\n",
      "74\n",
      "75FizzBuzz\n",
      "76\n",
      "77\n",
      "78Fizz\n",
      "79\n",
      "80Buzz\n",
      "81Fizz\n",
      "82\n",
      "83\n",
      "84Fizz\n",
      "85Buzz\n",
      "86\n",
      "87Fizz\n",
      "88\n",
      "89\n",
      "90FizzBuzz\n",
      "91\n",
      "92\n",
      "93Fizz\n",
      "94\n",
      "95Buzz\n",
      "96Fizz\n",
      "97\n",
      "98\n",
      "99Fizz\n",
      "100Buzz\n"
     ]
    }
   ],
   "source": [
    "#Code in this cell\n",
    "x = 1\n",
    "while x < 101:\n",
    "    if x%3==0 and x%5==0:\n",
    "        print(f'{x}FizzBuzz')\n",
    "    elif x%3 == 0:\n",
    "        print(f'{x}Fizz')\n",
    "    elif x%5==0:\n",
    "        print(f'{x}Buzz')\n",
    "    else:\n",
    "        print(x)\n",
    "    x +=1\n",
    "    "
   ]
  },
  {
   "cell_type": "markdown",
   "metadata": {},
   "source": [
    "____\n",
    "**Use List Comprehension to create a list of the first letters of every word in the string below:**"
   ]
  },
  {
   "cell_type": "code",
   "execution_count": null,
   "metadata": {},
   "outputs": [],
   "source": [
    "st = 'Create a list of the first letters of every word in this string'"
   ]
  },
  {
   "cell_type": "code",
   "execution_count": 14,
   "metadata": {},
   "outputs": [
    {
     "data": {
      "text/plain": [
       "['C', 'a', 'l', 'o', 't', 'f', 'l', 'o', 'e', 'w', 'i', 't', 's']"
      ]
     },
     "execution_count": 14,
     "metadata": {},
     "output_type": "execute_result"
    }
   ],
   "source": [
    "#Code in this cell\n",
    "st = 'Create a list of the first letters of every word in this string'\n",
    "x = st.split()\n",
    "[l[0] for i,l in enumerate(x)]\n",
    "\n",
    "# or\n",
    "\n",
    "[word[0] for word in st.split()]\n"
   ]
  },
  {
   "cell_type": "markdown",
   "metadata": {},
   "source": [
    "### Great Job!"
   ]
  }
 ],
 "metadata": {
  "kernelspec": {
   "display_name": "Python 3",
   "language": "python",
   "name": "python3"
  },
  "language_info": {
   "codemirror_mode": {
    "name": "ipython",
    "version": 3
   },
   "file_extension": ".py",
   "mimetype": "text/x-python",
   "name": "python",
   "nbconvert_exporter": "python",
   "pygments_lexer": "ipython3",
   "version": "3.7.6"
  }
 },
 "nbformat": 4,
 "nbformat_minor": 1
}
